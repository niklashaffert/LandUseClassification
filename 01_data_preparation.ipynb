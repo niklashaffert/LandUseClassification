{
  "nbformat": 4,
  "nbformat_minor": 0,
  "metadata": {
    "colab": {
      "provenance": [],
      "authorship_tag": "ABX9TyPz9D/hzXJKhrOoM5ZcWB6l",
      "include_colab_link": true
    },
    "kernelspec": {
      "name": "python3",
      "display_name": "Python 3"
    },
    "language_info": {
      "name": "python"
    }
  },
  "cells": [
    {
      "cell_type": "markdown",
      "metadata": {
        "id": "view-in-github",
        "colab_type": "text"
      },
      "source": [
        "<a href=\"https://colab.research.google.com/github/niklashaffert/LandUseClassification/blob/main/01_data_preparation.ipynb\" target=\"_parent\"><img src=\"https://colab.research.google.com/assets/colab-badge.svg\" alt=\"Open In Colab\"/></a>"
      ]
    },
    {
      "cell_type": "markdown",
      "source": [
        "# Introduction\n",
        "\n",
        "This notebook is used to download the data for the project from kaggle, then create a pandas data frame for each of the training, validation and test data and save it in drive."
      ],
      "metadata": {
        "id": "4XPuKWNFr7iO"
      }
    },
    {
      "cell_type": "markdown",
      "source": [
        "# Settings"
      ],
      "metadata": {
        "id": "rRGoXalhlDTS"
      }
    },
    {
      "cell_type": "markdown",
      "source": [
        "## Libraries"
      ],
      "metadata": {
        "id": "qt_SPXZQlHDa"
      }
    },
    {
      "cell_type": "code",
      "source": [
        "from google.colab import drive\n",
        "from kagglehub import dataset_download\n",
        "from numpy import array\n",
        "from os import path\n",
        "from pandas import read_csv, DataFrame\n",
        "from pickle import dump\n",
        "from PIL import Image"
      ],
      "metadata": {
        "id": "MzrTK0TymK0F"
      },
      "execution_count": 6,
      "outputs": []
    },
    {
      "cell_type": "markdown",
      "source": [
        "## Drive Settings"
      ],
      "metadata": {
        "id": "ekSfF4MRqeVG"
      }
    },
    {
      "cell_type": "code",
      "source": [
        "drive.mount('/content/drive')\n",
        "drive_path = '/content/drive/MyDrive/LandUseClassification'"
      ],
      "metadata": {
        "colab": {
          "base_uri": "https://localhost:8080/"
        },
        "id": "PTkSY8zqqhVD",
        "outputId": "d93f41ae-0ba1-4fb8-9d4d-9cdc019d706f"
      },
      "execution_count": 7,
      "outputs": [
        {
          "output_type": "stream",
          "name": "stdout",
          "text": [
            "Drive already mounted at /content/drive; to attempt to forcibly remount, call drive.mount(\"/content/drive\", force_remount=True).\n"
          ]
        }
      ]
    },
    {
      "cell_type": "markdown",
      "source": [
        "# Load Data from kaggle"
      ],
      "metadata": {
        "id": "q2m_cfG4mBhV"
      }
    },
    {
      "cell_type": "code",
      "source": [
        "path_datasets = dataset_download('apollo2506/landuse-scene-classification')"
      ],
      "metadata": {
        "id": "pPOHLZv_ltP7"
      },
      "execution_count": 8,
      "outputs": []
    },
    {
      "cell_type": "markdown",
      "source": [
        "# Generate Data Frames with Images"
      ],
      "metadata": {
        "id": "L1gX0_RLrUU0"
      }
    },
    {
      "cell_type": "code",
      "execution_count": 9,
      "metadata": {
        "id": "Ef66KZAvkB9h"
      },
      "outputs": [],
      "source": [
        "@staticmethod\n",
        "def load_data(name_csv):\n",
        "    data_csv = read_csv(path.join(path_datasets, name_csv))\n",
        "    # Create a list to store the data for the DataFrame\n",
        "    data = []\n",
        "    success_count = 0\n",
        "    failure_count = 0\n",
        "\n",
        "    # Set wanted size of output image\n",
        "    fixed_size = (224, 224)  # Match ResNet-18 input size\n",
        "\n",
        "    # Iterate through the data\n",
        "    for i in range(len(data_csv)):\n",
        "        image_path = path.join(path_datasets, 'images/', data_csv.iloc[i, 1])\n",
        "        try:\n",
        "            img = Image.open(image_path)\n",
        "            img = img.resize(fixed_size)\n",
        "            data.append({\n",
        "                'Image': img,\n",
        "                'Filename': data_csv.iloc[i, 1],\n",
        "                'Label': data_csv.iloc[i, 2],\n",
        "                'ClassName': data_csv.iloc[i, 3],\n",
        "                'ImageArray': array(img).flatten()\n",
        "            })\n",
        "            success_count += 1\n",
        "        except Exception as e:\n",
        "            failure_count += 1\n",
        "            print(f\"Failed to load image {image_path}: {e}\")\n",
        "\n",
        "    print(f\"Successfully loaded {success_count} images into DataFrame.\")\n",
        "    print(f\"Failed to load {failure_count} images.\")\n",
        "\n",
        "    # Create the DataFrame\n",
        "    df = DataFrame(data)\n",
        "    return df"
      ]
    },
    {
      "cell_type": "code",
      "source": [
        "df_train = load_data('train.csv')\n",
        "df_validation = load_data('validation.csv')\n",
        "df_test = load_data('test.csv')"
      ],
      "metadata": {
        "colab": {
          "base_uri": "https://localhost:8080/"
        },
        "id": "gUTUbLKwoFqQ",
        "outputId": "d583111b-28b3-45af-de86-a14784cda2ec"
      },
      "execution_count": 10,
      "outputs": [
        {
          "output_type": "stream",
          "name": "stdout",
          "text": [
            "Successfully loaded 7350 images into DataFrame.\n",
            "Failed to load 0 images.\n",
            "Successfully loaded 2100 images into DataFrame.\n",
            "Failed to load 0 images.\n",
            "Successfully loaded 1050 images into DataFrame.\n",
            "Failed to load 0 images.\n"
          ]
        }
      ]
    },
    {
      "cell_type": "markdown",
      "source": [
        "# Store Data in Drive"
      ],
      "metadata": {
        "id": "ZeTJpEmTqNwL"
      }
    },
    {
      "cell_type": "code",
      "source": [
        "@staticmethod\n",
        "def store_drive(object, path):\n",
        "  with open(path, 'wb') as f:\n",
        "      dump(object, f)"
      ],
      "metadata": {
        "id": "5X_dIRf0qNG-"
      },
      "execution_count": 11,
      "outputs": []
    },
    {
      "cell_type": "code",
      "source": [
        "store_drive(df_train, path.join(drive_path, 'Data/df_train.pkl'))\n",
        "store_drive(df_validation, path.join(drive_path, 'Data/df_train.pkl'))\n",
        "store_drive(df_test, path.join(drive_path, 'Data/df_train.pkl'))"
      ],
      "metadata": {
        "id": "ZyM4h1o1qVVI"
      },
      "execution_count": 12,
      "outputs": []
    }
  ]
}