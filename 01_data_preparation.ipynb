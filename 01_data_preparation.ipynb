{
  "nbformat": 4,
  "nbformat_minor": 0,
  "metadata": {
    "colab": {
      "provenance": [],
      "authorship_tag": "ABX9TyMoOS5nFNJhSgSRFTlpxaiz",
      "include_colab_link": true
    },
    "kernelspec": {
      "name": "python3",
      "display_name": "Python 3"
    },
    "language_info": {
      "name": "python"
    }
  },
  "cells": [
    {
      "cell_type": "markdown",
      "metadata": {
        "id": "view-in-github",
        "colab_type": "text"
      },
      "source": [
        "<a href=\"https://colab.research.google.com/github/niklashaffert/LandUseClassification/blob/main/01_data_preparation.ipynb\" target=\"_parent\"><img src=\"https://colab.research.google.com/assets/colab-badge.svg\" alt=\"Open In Colab\"/></a>"
      ]
    },
    {
      "cell_type": "markdown",
      "source": [
        "# Introduction\n",
        "\n",
        "This notebook is used to download the data for the project from kaggle, then create a pandas data frame for each of the training, validation and test data and save it in drive."
      ],
      "metadata": {
        "id": "4XPuKWNFr7iO"
      }
    },
    {
      "cell_type": "markdown",
      "source": [
        "# Settings"
      ],
      "metadata": {
        "id": "rRGoXalhlDTS"
      }
    },
    {
      "cell_type": "markdown",
      "source": [
        "## Libraries"
      ],
      "metadata": {
        "id": "qt_SPXZQlHDa"
      }
    },
    {
      "cell_type": "code",
      "source": [
        "from google.colab import drive\n",
        "from kagglehub import dataset_download\n",
        "from numpy import array\n",
        "from os import path\n",
        "from pandas import read_csv, DataFrame\n",
        "from PIL import Image"
      ],
      "metadata": {
        "id": "MzrTK0TymK0F"
      },
      "execution_count": 1,
      "outputs": []
    },
    {
      "cell_type": "markdown",
      "source": [
        "Load custom functions from GitHub."
      ],
      "metadata": {
        "id": "AEAY0PghT6-E"
      }
    },
    {
      "cell_type": "code",
      "source": [
        "!rm functions.py\n",
        "!wget https://raw.githubusercontent.com/niklashaffert/LandUseClassification/main/functions.py\n",
        "from functions import store_drive"
      ],
      "metadata": {
        "colab": {
          "base_uri": "https://localhost:8080/"
        },
        "id": "AppM6xs4Sc0q",
        "outputId": "6df15893-140e-4bb5-f6e2-aa4126c79e88"
      },
      "execution_count": 8,
      "outputs": [
        {
          "output_type": "stream",
          "name": "stdout",
          "text": [
            "--2025-02-23 19:36:16--  https://raw.githubusercontent.com/niklashaffert/LandUseClassification/main/functions.py\n",
            "Resolving raw.githubusercontent.com (raw.githubusercontent.com)... 185.199.108.133, 185.199.109.133, 185.199.110.133, ...\n",
            "Connecting to raw.githubusercontent.com (raw.githubusercontent.com)|185.199.108.133|:443... connected.\n",
            "HTTP request sent, awaiting response... 200 OK\n",
            "Length: 228 [text/plain]\n",
            "Saving to: ‘functions.py’\n",
            "\n",
            "functions.py        100%[===================>]     228  --.-KB/s    in 0s      \n",
            "\n",
            "2025-02-23 19:36:16 (3.91 MB/s) - ‘functions.py’ saved [228/228]\n",
            "\n"
          ]
        }
      ]
    },
    {
      "cell_type": "markdown",
      "source": [
        "## Drive Settings"
      ],
      "metadata": {
        "id": "ekSfF4MRqeVG"
      }
    },
    {
      "cell_type": "code",
      "source": [
        "drive.mount('/content/drive')\n",
        "drive_path = '/content/drive/MyDrive/LandUseClassification'"
      ],
      "metadata": {
        "colab": {
          "base_uri": "https://localhost:8080/"
        },
        "id": "PTkSY8zqqhVD",
        "outputId": "0acd744c-185d-4951-992b-a4a11b4597b8"
      },
      "execution_count": 3,
      "outputs": [
        {
          "output_type": "stream",
          "name": "stdout",
          "text": [
            "Mounted at /content/drive\n"
          ]
        }
      ]
    },
    {
      "cell_type": "markdown",
      "source": [
        "# Load Data from kaggle"
      ],
      "metadata": {
        "id": "q2m_cfG4mBhV"
      }
    },
    {
      "cell_type": "code",
      "source": [
        "path_datasets = dataset_download('apollo2506/landuse-scene-classification')"
      ],
      "metadata": {
        "colab": {
          "base_uri": "https://localhost:8080/"
        },
        "id": "pPOHLZv_ltP7",
        "outputId": "9f0d334f-9fb7-4f4d-d134-5c83d49dc27e"
      },
      "execution_count": 4,
      "outputs": [
        {
          "output_type": "stream",
          "name": "stdout",
          "text": [
            "Downloading from https://www.kaggle.com/api/v1/datasets/download/apollo2506/landuse-scene-classification?dataset_version_number=3...\n"
          ]
        },
        {
          "output_type": "stream",
          "name": "stderr",
          "text": [
            "100%|██████████| 1.98G/1.98G [00:30<00:00, 70.1MB/s]"
          ]
        },
        {
          "output_type": "stream",
          "name": "stdout",
          "text": [
            "Extracting files...\n"
          ]
        },
        {
          "output_type": "stream",
          "name": "stderr",
          "text": [
            "\n"
          ]
        }
      ]
    },
    {
      "cell_type": "markdown",
      "source": [
        "# Generate Data Frames with Images"
      ],
      "metadata": {
        "id": "L1gX0_RLrUU0"
      }
    },
    {
      "cell_type": "code",
      "execution_count": 5,
      "metadata": {
        "id": "Ef66KZAvkB9h"
      },
      "outputs": [],
      "source": [
        "@staticmethod\n",
        "def load_data(name_csv):\n",
        "    data_csv = read_csv(path.join(path_datasets, name_csv))\n",
        "    # Create a list to store the data for the DataFrame\n",
        "    data = []\n",
        "    success_count = 0\n",
        "    failure_count = 0\n",
        "\n",
        "    # Set wanted size of output image\n",
        "    fixed_size = (224, 224)  # Match ResNet-18 input size\n",
        "\n",
        "    # Iterate through the data\n",
        "    for i in range(len(data_csv)):\n",
        "        image_path = path.join(path_datasets, 'images/', data_csv.iloc[i, 1])\n",
        "        try:\n",
        "            img = Image.open(image_path)\n",
        "            img = img.resize(fixed_size)\n",
        "            data.append({\n",
        "                'Image': img,\n",
        "                'Filename': data_csv.iloc[i, 1],\n",
        "                'Label': data_csv.iloc[i, 2],\n",
        "                'ClassName': data_csv.iloc[i, 3],\n",
        "                'ImageArray': array(img).flatten()\n",
        "            })\n",
        "            success_count += 1\n",
        "        except Exception as e:\n",
        "            failure_count += 1\n",
        "            print(f\"Failed to load image {image_path}: {e}\")\n",
        "\n",
        "    print(f\"Successfully loaded {success_count} images into DataFrame.\")\n",
        "    print(f\"Failed to load {failure_count} images.\")\n",
        "\n",
        "    # Create the DataFrame\n",
        "    df = DataFrame(data)\n",
        "    return df"
      ]
    },
    {
      "cell_type": "code",
      "source": [
        "df_train = load_data('train.csv')\n",
        "df_validation = load_data('validation.csv')\n",
        "df_test = load_data('test.csv')"
      ],
      "metadata": {
        "colab": {
          "base_uri": "https://localhost:8080/"
        },
        "id": "gUTUbLKwoFqQ",
        "outputId": "fb34b690-2fed-43b6-d43f-7d7917ad431e"
      },
      "execution_count": 6,
      "outputs": [
        {
          "output_type": "stream",
          "name": "stdout",
          "text": [
            "Successfully loaded 7350 images into DataFrame.\n",
            "Failed to load 0 images.\n",
            "Successfully loaded 2100 images into DataFrame.\n",
            "Failed to load 0 images.\n",
            "Successfully loaded 1050 images into DataFrame.\n",
            "Failed to load 0 images.\n"
          ]
        }
      ]
    },
    {
      "cell_type": "markdown",
      "source": [
        "# Store Data in Drive"
      ],
      "metadata": {
        "id": "ZeTJpEmTqNwL"
      }
    },
    {
      "cell_type": "code",
      "source": [
        "store_drive(df_train, path.join(drive_path, 'Data/df_train.pkl'))\n",
        "store_drive(df_validation, path.join(drive_path, 'Data/df_validation.pkl'))\n",
        "store_drive(df_test, path.join(drive_path, 'Data/df_test.pkl'))"
      ],
      "metadata": {
        "id": "ZyM4h1o1qVVI"
      },
      "execution_count": 9,
      "outputs": []
    }
  ]
}