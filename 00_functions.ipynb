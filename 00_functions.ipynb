{
  "nbformat": 4,
  "nbformat_minor": 0,
  "metadata": {
    "colab": {
      "provenance": [],
      "authorship_tag": "ABX9TyPo1UNXBfBsw331OPw+BPvC",
      "include_colab_link": true
    },
    "kernelspec": {
      "name": "python3",
      "display_name": "Python 3"
    },
    "language_info": {
      "name": "python"
    }
  },
  "cells": [
    {
      "cell_type": "markdown",
      "metadata": {
        "id": "view-in-github",
        "colab_type": "text"
      },
      "source": [
        "<a href=\"https://colab.research.google.com/github/niklashaffert/LandUseClassification/blob/main/00_functions.ipynb\" target=\"_parent\"><img src=\"https://colab.research.google.com/assets/colab-badge.svg\" alt=\"Open In Colab\"/></a>"
      ]
    },
    {
      "cell_type": "code",
      "execution_count": 1,
      "metadata": {
        "id": "INXOwdnY_PwG"
      },
      "outputs": [],
      "source": [
        "from pickle import dump, load"
      ]
    },
    {
      "cell_type": "code",
      "source": [
        "@staticmethod\n",
        "def store_drive(object, path):\n",
        "  with open(path, 'wb') as f:\n",
        "      dump(object, f)"
      ],
      "metadata": {
        "id": "6rMJHD7l_Tm4"
      },
      "execution_count": 2,
      "outputs": []
    },
    {
      "cell_type": "code",
      "source": [
        "@staticmethod\n",
        "def read_drive(path):\n",
        "  with open(path, 'rb') as f:\n",
        "      obj = load(f)\n",
        "  return obj"
      ],
      "metadata": {
        "id": "vnPJRCP4_fOI"
      },
      "execution_count": null,
      "outputs": []
    }
  ]
}